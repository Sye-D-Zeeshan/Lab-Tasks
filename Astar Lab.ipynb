{
 "cells": [
  {
   "cell_type": "code",
   "execution_count": 1,
   "metadata": {},
   "outputs": [
    {
     "name": "stdout",
     "output_type": "stream",
     "text": [
      "Path from S to G: ['S', 'A', 'C', 'G']\n"
     ]
    }
   ],
   "source": [
    "import heapq\n",
    "\n",
    "class Node:\n",
    "    def __init__(self, state, parent=None, g_cost=0, h_cost=0):\n",
    "        self.state = state\n",
    "        self.parent = parent\n",
    "        self.g_cost = g_cost  \n",
    "        self.h_cost = h_cost  \n",
    "\n",
    "    def __lt__(self, other):\n",
    "        return (self.g_cost + self.h_cost) < (other.g_cost + other.h_cost)\n",
    "\n",
    "def a_star(start, goal, edges, heuristic=lambda state: 0):\n",
    "    open_set = [Node(start, None, 0, heuristic(start))]\n",
    "    closed_set = set()\n",
    "\n",
    "    while open_set:\n",
    "        current_node = heapq.heappop(open_set)\n",
    "\n",
    "        if current_node.state == goal:\n",
    "            path = []\n",
    "            while current_node:\n",
    "                path.append(current_node.state)\n",
    "                current_node = current_node.parent\n",
    "            return path[::-1]\n",
    "\n",
    "        closed_set.add(current_node.state)\n",
    "\n",
    "        for neighbor, cost in edges.get(current_node.state, []):\n",
    "            if neighbor not in closed_set:\n",
    "                g_cost = current_node.g_cost + cost\n",
    "                h_cost = heuristic(neighbor)\n",
    "                new_node = Node(neighbor, current_node, g_cost, h_cost)\n",
    "\n",
    "                if new_node not in open_set:\n",
    "                    heapq.heappush(open_set, new_node)\n",
    "\n",
    "    return None  \n",
    "\n",
    "edges = {\n",
    "    'S': [('A', 1), ('G', 10)],\n",
    "    'A': [('S', 1), ('C', 1)],\n",
    "    'C': [('D', 6), ('G', 4)],\n",
    "    'D': [('C', 3), ('G', 0)],\n",
    "    'B': [('A', 2), ('D', 6)],\n",
    "    'G': []\n",
    "}\n",
    "\n",
    "start_state = 'S'\n",
    "goal_state = 'G'\n",
    "\n",
    "\n",
    "path = a_star(start_state, goal_state, edges)\n",
    "\n",
    "\n",
    "if path:\n",
    "    print(f\"Path from {start_state} to {goal_state}: {path}\")\n",
    "else:\n",
    "    print(f\"No path found from {start_state} to {goal_state}.\")\n"
   ]
  }
 ],
 "metadata": {
  "kernelspec": {
   "display_name": "base",
   "language": "python",
   "name": "python3"
  },
  "language_info": {
   "codemirror_mode": {
    "name": "ipython",
    "version": 3
   },
   "file_extension": ".py",
   "mimetype": "text/x-python",
   "name": "python",
   "nbconvert_exporter": "python",
   "pygments_lexer": "ipython3",
   "version": "3.11.7"
  }
 },
 "nbformat": 4,
 "nbformat_minor": 2
}
