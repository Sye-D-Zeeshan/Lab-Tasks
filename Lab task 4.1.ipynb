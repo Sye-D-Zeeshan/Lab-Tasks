{
 "cells": [
  {
   "cell_type": "code",
   "execution_count": 1,
   "metadata": {},
   "outputs": [
    {
     "name": "stdout",
     "output_type": "stream",
     "text": [
      "  species     island  bill_length_mm  bill_depth_mm  flipper_length_mm  \\\n",
      "0  Adelie  Torgersen            39.1           18.7                181   \n",
      "1  Adelie  Torgersen            39.5           17.4                186   \n",
      "2  Adelie  Torgersen            40.3           18.0                195   \n",
      "3  Adelie  Torgersen            36.7           19.3                193   \n",
      "4  Adelie  Torgersen            39.3           20.6                190   \n",
      "\n",
      "   body_mass_g     sex  \n",
      "0         3750    MALE  \n",
      "1         3800  FEMALE  \n",
      "2         3250  FEMALE  \n",
      "3         3450  FEMALE  \n",
      "4         3650    MALE  \n",
      "k-NN (k=1) Accuracy: 0.9851\n",
      "k-NN (k=2) Accuracy: 1.0000\n",
      "k-NN (k=3) Accuracy: 1.0000\n",
      "k-NN (k=4) Accuracy: 1.0000\n",
      "k-NN (k=5) Accuracy: 1.0000\n",
      "k-NN (k=6) Accuracy: 1.0000\n",
      "k-NN (k=7) Accuracy: 1.0000\n",
      "k-NN (k=8) Accuracy: 1.0000\n",
      "k-NN (k=9) Accuracy: 1.0000\n",
      "k-NN (k=10) Accuracy: 1.0000\n",
      "Logistic Regression Accuracy: 1.0000\n",
      "SVM Accuracy: 1.0000\n"
     ]
    }
   ],
   "source": [
    "import pandas as pd\n",
    "from sklearn.model_selection import train_test_split\n",
    "from sklearn.neighbors import KNeighborsClassifier\n",
    "from sklearn.linear_model import LogisticRegression\n",
    "from sklearn.svm import SVC\n",
    "from sklearn.metrics import accuracy_score\n",
    "from sklearn.preprocessing import StandardScaler, LabelEncoder\n",
    "\n",
    "# Read the CSV file\n",
    "df = pd.read_csv('C:/Users/zeesh/Downloads/penguins.csv')\n",
    "print(df.head())\n",
    "\n",
    "# Convert categorical variables to numerical using one-hot encoding\n",
    "df = pd.get_dummies(df, columns=['sex', 'island'], drop_first=True)\n",
    "\n",
    "# Encode the target variable 'species'\n",
    "label_encoder = LabelEncoder()\n",
    "df['species'] = label_encoder.fit_transform(df['species'])\n",
    "\n",
    "# Select appropriate features for k-NN, Logistic Regression, and SVM\n",
    "features = ['bill_length_mm', 'bill_depth_mm', 'flipper_length_mm', 'body_mass_g', 'island_Dream', 'island_Torgersen']\n",
    "X = df[features]\n",
    "y = df['species']  # Use the encoded 'species' column as the target variable\n",
    "\n",
    "# Split the data into training and testing sets\n",
    "X_train, X_test, y_train, y_test = train_test_split(X, y, test_size=0.2, random_state=42)\n",
    "\n",
    "# Scale the features\n",
    "scaler = StandardScaler()\n",
    "X_train_scaled = scaler.fit_transform(X_train)\n",
    "X_test_scaled = scaler.transform(X_test)\n",
    "\n",
    "# K-NN for different values of K\n",
    "for k in range(1, 11):\n",
    "    knn = KNeighborsClassifier(n_neighbors=k)\n",
    "    knn.fit(X_train_scaled, y_train)\n",
    "    y_pred = knn.predict(X_test_scaled)\n",
    "    accuracy = accuracy_score(y_test, y_pred)\n",
    "    print(f'k-NN (k={k}) Accuracy: {accuracy:.4f}')\n",
    "\n",
    "# Logistic Regression with increased max_iter\n",
    "logistic_reg = LogisticRegression(max_iter=1000)\n",
    "logistic_reg.fit(X_train_scaled, y_train)\n",
    "y_pred_logistic = logistic_reg.predict(X_test_scaled)\n",
    "accuracy_logistic = accuracy_score(y_test, y_pred_logistic)\n",
    "print(f'Logistic Regression Accuracy: {accuracy_logistic:.4f}')\n",
    "\n",
    "# SVM\n",
    "svm_model = SVC()\n",
    "svm_model.fit(X_train_scaled, y_train)\n",
    "y_pred_svm = svm_model.predict(X_test_scaled)\n",
    "accuracy_svm = accuracy_score(y_test, y_pred_svm)\n",
    "print(f'SVM Accuracy: {accuracy_svm:.4f}')\n"
   ]
  }
 ],
 "metadata": {
  "kernelspec": {
   "display_name": "Python 3",
   "language": "python",
   "name": "python3"
  },
  "language_info": {
   "codemirror_mode": {
    "name": "ipython",
    "version": 3
   },
   "file_extension": ".py",
   "mimetype": "text/x-python",
   "name": "python",
   "nbconvert_exporter": "python",
   "pygments_lexer": "ipython3",
   "version": "3.11.6"
  }
 },
 "nbformat": 4,
 "nbformat_minor": 2
}
