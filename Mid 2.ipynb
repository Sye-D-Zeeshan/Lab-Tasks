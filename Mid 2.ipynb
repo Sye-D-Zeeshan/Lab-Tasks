{
 "cells": [
  {
   "cell_type": "code",
   "execution_count": 10,
   "metadata": {},
   "outputs": [
    {
     "name": "stdout",
     "output_type": "stream",
     "text": [
      "Breadth First Search algorithm starting from node 1:\n",
      "1 2 3 4 5 6 "
     ]
    }
   ],
   "source": [
    "from collections import deque, defaultdict\n",
    "\n",
    "class Graph:\n",
    "    def __init__(self):\n",
    "        self.graph = defaultdict(list)\n",
    "\n",
    "    def add_edge(self, u, v):\n",
    "        self.graph[u].append(v)\n",
    "\n",
    "    def bfs(self, start):\n",
    "        visited = set()\n",
    "        queue = deque([start])\n",
    "        visited.add(start)\n",
    "\n",
    "        while queue:\n",
    "            node = queue.popleft()\n",
    "            print(node, end=\" \")\n",
    "\n",
    "            for neighbor in self.graph[node]:\n",
    "                if neighbor not in visited:\n",
    "                    queue.append(neighbor)\n",
    "                    visited.add(neighbor)\n",
    "\n",
    "g = Graph()\n",
    "g.add_edge(1, 2)\n",
    "g.add_edge(1, 3)\n",
    "g.add_edge(2, 4)\n",
    "g.add_edge(2, 5)\n",
    "g.add_edge(3, 6)\n",
    "print(\"Breadth First Search algorithm starting from node 1:\")\n",
    "g.bfs(1)\n"
   ]
  }
 ],
 "metadata": {
  "kernelspec": {
   "display_name": "Python 3",
   "language": "python",
   "name": "python3"
  },
  "language_info": {
   "codemirror_mode": {
    "name": "ipython",
    "version": 3
   },
   "file_extension": ".py",
   "mimetype": "text/x-python",
   "name": "python",
   "nbconvert_exporter": "python",
   "pygments_lexer": "ipython3",
   "version": "3.11.7"
  }
 },
 "nbformat": 4,
 "nbformat_minor": 2
}
